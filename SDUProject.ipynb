{
  "nbformat": 4,
  "nbformat_minor": 0,
  "metadata": {
    "colab": {
      "name": "SDUProject.ipynb",
      "provenance": [],
      "collapsed_sections": []
    },
    "kernelspec": {
      "name": "python3",
      "display_name": "Python 3"
    },
    "language_info": {
      "name": "python"
    },
    "gpuClass": "standard",
    "accelerator": "GPU"
  },
  "cells": [
    {
      "cell_type": "markdown",
      "source": [
        "# Setup environment"
      ],
      "metadata": {
        "id": "84nOX4WrMn2-"
      }
    },
    {
      "cell_type": "code",
      "execution_count": null,
      "metadata": {
        "id": "LAr8MLX74ic9"
      },
      "outputs": [],
      "source": [
        "!git clone https://github.com/Grigori200/SDU_Project.git\n",
        "!cd SDU_Project && git checkout Sweep"
      ]
    },
    {
      "cell_type": "code",
      "source": [
        "!pip install pytorch-lightning==1.6.4\n",
        "!pip install torchtext==0.11.0\n",
        "!pip install torchvision==0.11.1"
      ],
      "metadata": {
        "id": "6l_pJw-4-kaZ"
      },
      "execution_count": null,
      "outputs": []
    },
    {
      "cell_type": "markdown",
      "source": [
        "# To run this section it is necessary to upload testing data to the colab and then provide appropriate path for the --data_path argument"
      ],
      "metadata": {
        "id": "hvvJ6SZT4lcF"
      }
    },
    {
      "cell_type": "code",
      "source": [
        "# Only necessary if test data is uploaded in .zip format\n",
        "!unzip \"/content/data (1).zip\" -d /content/data"
      ],
      "metadata": {
        "id": "7xKd0Zu_FBiJ"
      },
      "execution_count": null,
      "outputs": []
    },
    {
      "cell_type": "code",
      "source": [
        "# Test our model on provided data, change --data_path to appropriate path\n",
        "!python3 /content/SDU_Project/test.py --model_path /content/SDU_Project/ensemble_final98 --data_path /content/data/data/"
      ],
      "metadata": {
        "id": "u1lJygn552at"
      },
      "execution_count": null,
      "outputs": []
    },
    {
      "cell_type": "markdown",
      "source": [
        "# Read predictions"
      ],
      "metadata": {
        "id": "NSnhkjE74_KZ"
      }
    },
    {
      "cell_type": "code",
      "source": [
        "import pandas as pd\n",
        "from torchmetrics.functional import accuracy"
      ],
      "metadata": {
        "id": "bNjbloea4_h8"
      },
      "execution_count": null,
      "outputs": []
    },
    {
      "cell_type": "code",
      "source": [
        "PATH_TO_TRUE_LABELS = \"\"\n",
        "y_pred = pd.read_csv(\"/content/predictions.csv\", index_col=0)\n",
        "y_true = pd.read_csv(PATH_TO_TRUE_LABELS)"
      ],
      "metadata": {
        "id": "nSlJWRH8GJtk"
      },
      "execution_count": null,
      "outputs": []
    },
    {
      "cell_type": "code",
      "source": [
        ""
      ],
      "metadata": {
        "id": "Ezac4eIeRrUy"
      },
      "execution_count": null,
      "outputs": []
    }
  ]
}